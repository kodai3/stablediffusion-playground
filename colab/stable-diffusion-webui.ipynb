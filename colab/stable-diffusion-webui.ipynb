{
 "cells": [
  {
   "cell_type": "markdown",
   "id": "ca437a5e",
   "metadata": {},
   "source": [
    "You have to run scripts on https://colab.research.google.com/"
   ]
  },
  {
   "cell_type": "markdown",
   "id": "4ee2e297",
   "metadata": {},
   "source": [
    "## Check you have GPU attached\n",
    "\n",
    "If you get error runing command. Go to `Edit > Notebook settings` and select \"GPU\"."
   ]
  },
  {
   "cell_type": "code",
   "execution_count": null,
   "id": "692de2b7",
   "metadata": {
    "scrolled": false
   },
   "outputs": [],
   "source": [
    "!nvidia-smi"
   ]
  },
  {
   "cell_type": "markdown",
   "id": "26666dc2",
   "metadata": {},
   "source": [
    "## Setup\n",
    "### Clone stable diffusion webui repo"
   ]
  },
  {
   "cell_type": "code",
   "execution_count": null,
   "id": "5ac00d36",
   "metadata": {},
   "outputs": [],
   "source": [
    "!git clone https://github.com/AUTOMATIC1111/stable-diffusion-webui /content/stable-diffusion-webui\n",
    "%cd /content/stable-diffusion-webui"
   ]
  },
  {
   "cell_type": "markdown",
   "id": "467ae134",
   "metadata": {},
   "source": [
    "### Pull model checkpoint from hugging face"
   ]
  },
  {
   "cell_type": "code",
   "execution_count": null,
   "id": "8d893b9f",
   "metadata": {},
   "outputs": [],
   "source": [
    "user_token = input()\n",
    "user_header = f\"\\\"Authorization: Bearer {user_token}\\\"\"\n",
    "!wget --header={user_header} https://huggingface.co/CompVis/stable-diffusion-v-1-4-original/resolve/main/sd-v1-4.ckpt -O models/sd-v1-4.ckpt"
   ]
  },
  {
   "cell_type": "markdown",
   "id": "a7c0d2b0",
   "metadata": {},
   "source": [
    "### Install dependencies"
   ]
  },
  {
   "cell_type": "code",
   "execution_count": null,
   "id": "0f226222",
   "metadata": {},
   "outputs": [],
   "source": [
    "!COMMANDLINE_ARGS=\"--exit\" REQS_FILE=\"requirements.txt\" python launch.py"
   ]
  },
  {
   "cell_type": "markdown",
   "id": "04b5c2c9",
   "metadata": {},
   "source": [
    "### Change into Web UI directory and download updates1"
   ]
  },
  {
   "cell_type": "code",
   "execution_count": null,
   "id": "abd9518e",
   "metadata": {},
   "outputs": [],
   "source": [
    "%cd /content/stable-diffusion-webui\n",
    "!git pull"
   ]
  },
  {
   "cell_type": "markdown",
   "id": "6e0630d2",
   "metadata": {},
   "source": [
    "## Launch web ui\n",
    "Access nnn.gradio.app link and play around."
   ]
  },
  {
   "cell_type": "code",
   "execution_count": null,
   "id": "5e4fd0a5",
   "metadata": {},
   "outputs": [],
   "source": [
    "!COMMANDLINE_ARGS=\"--share --gradio-debug --api --enable-insecure-extension-access\" REQS_FILE=\"requirements.txt\" python launch.py"
   ]
  }
 ],
 "metadata": {
  "kernelspec": {
   "display_name": "Python 3 (ipykernel)",
   "language": "python",
   "name": "python3"
  },
  "language_info": {
   "codemirror_mode": {
    "name": "ipython",
    "version": 3
   },
   "file_extension": ".py",
   "mimetype": "text/x-python",
   "name": "python",
   "nbconvert_exporter": "python",
   "pygments_lexer": "ipython3",
   "version": "3.11.2"
  }
 },
 "nbformat": 4,
 "nbformat_minor": 5
}
